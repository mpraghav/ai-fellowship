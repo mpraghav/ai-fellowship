{
 "cells": [
  {
   "cell_type": "code",
   "execution_count": 3,
   "id": "9181a75e",
   "metadata": {},
   "outputs": [
    {
     "name": "stdout",
     "output_type": "stream",
     "text": [
      "Hi Outskillers Jupyter\n"
     ]
    }
   ],
   "source": [
    "print('Hi Outskillers Jupyter')"
   ]
  },
  {
   "cell_type": "code",
   "execution_count": 4,
   "id": "2b7bad4a",
   "metadata": {},
   "outputs": [
    {
     "name": "stdout",
     "output_type": "stream",
     "text": [
      "README.md          interactive.ipynb  notes1.txt         test.py\n",
      "index.html         notes.txt          notes2.txt         test1.py\n"
     ]
    }
   ],
   "source": [
    "ls"
   ]
  },
  {
   "cell_type": "code",
   "execution_count": null,
   "id": "0ce29ab1",
   "metadata": {},
   "outputs": [],
   "source": [
    "print('line 1')\n",
    "print('line 2')\n"
   ]
  },
  {
   "cell_type": "code",
   "execution_count": null,
   "id": "c678130d",
   "metadata": {},
   "outputs": [],
   "source": [
    "print('line 3')\n",
    "print('line 4')"
   ]
  },
  {
   "cell_type": "code",
   "execution_count": null,
   "id": "262fe791",
   "metadata": {},
   "outputs": [],
   "source": []
  }
 ],
 "metadata": {
  "kernelspec": {
   "display_name": "Python 3",
   "language": "python",
   "name": "python3"
  },
  "language_info": {
   "codemirror_mode": {
    "name": "ipython",
    "version": 3
   },
   "file_extension": ".py",
   "mimetype": "text/x-python",
   "name": "python",
   "nbconvert_exporter": "python",
   "pygments_lexer": "ipython3",
   "version": "3.13.5"
  }
 },
 "nbformat": 4,
 "nbformat_minor": 5
}
